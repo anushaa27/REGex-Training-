{
 "cells": [
  {
   "cell_type": "markdown",
   "id": "9e8620a5-acf2-4464-9c94-d48fb212536d",
   "metadata": {},
   "source": [
    "# ASSIGNMENT-3"
   ]
  },
  {
   "cell_type": "markdown",
   "id": "b38ae2e5-f6d0-47a0-85c0-3805ad19625c",
   "metadata": {},
   "source": [
    "### Q1. Write a function to return nth term of Fibonacci sequence."
   ]
  },
  {
   "cell_type": "code",
   "execution_count": 4,
   "id": "471e75c3-6882-4055-a4c0-7cd43f821a53",
   "metadata": {},
   "outputs": [
    {
     "name": "stdin",
     "output_type": "stream",
     "text": [
      "Enter a value :  10\n"
     ]
    },
    {
     "data": {
      "text/plain": [
       "55"
      ]
     },
     "execution_count": 4,
     "metadata": {},
     "output_type": "execute_result"
    }
   ],
   "source": [
    "def fibonacci(n):\n",
    "    if n == 0 or n == 1:\n",
    "        return n \n",
    "    return fibonacci(n-1) + fibonacci(n-2)\n",
    "\n",
    "n = int(input(\"Enter a value : \"))\n",
    "\n",
    "fibonacci(n)"
   ]
  },
  {
   "cell_type": "markdown",
   "id": "5c6179f3-9e25-4d1b-8f02-dde7b8d861ee",
   "metadata": {},
   "source": [
    "### Q2. Write a function to find out GCD of two numbers using Euclid's algorithm."
   ]
  },
  {
   "cell_type": "code",
   "execution_count": 5,
   "id": "eaef8a96-f0f6-4456-b1ef-34d97fa9a41b",
   "metadata": {},
   "outputs": [
    {
     "name": "stdin",
     "output_type": "stream",
     "text": [
      "Enter value of first number :  10\n",
      "Enter value of second number :  5\n"
     ]
    },
    {
     "name": "stdout",
     "output_type": "stream",
     "text": [
      "GCD of 10 and 5 is : \n",
      "5\n"
     ]
    }
   ],
   "source": [
    "def gcd(a,b):\n",
    "    while b != 0:\n",
    "        rem = a % b\n",
    "        a = b\n",
    "        b = rem\n",
    "    print(a)\n",
    "    \n",
    "a = int(input(\"Enter value of first number : \"))\n",
    "b = int(input(\"Enter value of second number : \"))\n",
    "\n",
    "print(\"GCD of\", a ,\"and\", b ,\"is : \")\n",
    "\n",
    "gcd(a,b)"
   ]
  },
  {
   "cell_type": "markdown",
   "id": "38695be7-ba47-4454-b98e-5e422751fc3e",
   "metadata": {},
   "source": [
    "### Q3. Write a function to find LCM of two numbers in most optimizers way."
   ]
  },
  {
   "cell_type": "code",
   "execution_count": 6,
   "id": "1d3b7545-b430-4d05-ac99-be2c79bf9547",
   "metadata": {},
   "outputs": [
    {
     "name": "stdin",
     "output_type": "stream",
     "text": [
      "Enter value of first number :  10\n",
      "Enter value of second number :  5\n"
     ]
    },
    {
     "name": "stdout",
     "output_type": "stream",
     "text": [
      "LCM is :  10\n"
     ]
    }
   ],
   "source": [
    "def gcd(a,b):\n",
    "    while (b):\n",
    "        rem = a % b\n",
    "        a = b\n",
    "        b = rem\n",
    "    return a\n",
    "\n",
    "def lcm(a,b):\n",
    "    lcm = (a * b) // gcd(a,b)\n",
    "    return lcm\n",
    "\n",
    "num1 = int(input(\"Enter value of first number : \"))\n",
    "num2 = int(input(\"Enter value of second number : \"))\n",
    "\n",
    "print(\"LCM is : \", lcm(num1,num2))"
   ]
  },
  {
   "cell_type": "code",
   "execution_count": null,
   "id": "25d6fa55-1a7b-42ff-bacb-bad44eb2c41d",
   "metadata": {},
   "outputs": [],
   "source": []
  }
 ],
 "metadata": {
  "kernelspec": {
   "display_name": "Python 3",
   "language": "python",
   "name": "python3"
  },
  "language_info": {
   "codemirror_mode": {
    "name": "ipython",
    "version": 3
   },
   "file_extension": ".py",
   "mimetype": "text/x-python",
   "name": "python",
   "nbconvert_exporter": "python",
   "pygments_lexer": "ipython3",
   "version": "3.8.8"
  }
 },
 "nbformat": 4,
 "nbformat_minor": 5
}
