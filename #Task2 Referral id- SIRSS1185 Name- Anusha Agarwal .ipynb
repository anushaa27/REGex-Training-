{
 "cells": [
  {
   "cell_type": "markdown",
   "id": "72ea4eba-c411-4680-b2bf-da70ca304e5a",
   "metadata": {},
   "source": [
    "# ASSIGNMENT-2"
   ]
  },
  {
   "cell_type": "markdown",
   "id": "fec84993-7cdb-45fc-a3c4-a4aea99a74e9",
   "metadata": {},
   "source": [
    "### Q1. Write a lambda expression to extract first word of a string."
   ]
  },
  {
   "cell_type": "code",
   "execution_count": 3,
   "id": "9b08e814-3788-45be-b156-042011e1a83a",
   "metadata": {},
   "outputs": [
    {
     "data": {
      "text/plain": [
       "'Hello'"
      ]
     },
     "execution_count": 3,
     "metadata": {},
     "output_type": "execute_result"
    }
   ],
   "source": [
    "lambda s : s.split()[0]\n",
    "a = lambda s : s.split()[0]\n",
    "a('Hello World! Welcome to Jupyter lab ')"
   ]
  },
  {
   "cell_type": "markdown",
   "id": "47bae1cb-6ea1-4899-bbf4-0fabd9cd637f",
   "metadata": {},
   "source": [
    "### Q2. Write a function to extract first word of a string (with many words separated by space)."
   ]
  },
  {
   "cell_type": "code",
   "execution_count": 4,
   "id": "871b804f-fd00-4c18-80ea-f207a7c482ec",
   "metadata": {},
   "outputs": [
    {
     "name": "stdout",
     "output_type": "stream",
     "text": [
      "Hi, I hope "
     ]
    }
   ],
   "source": [
    "def separate(s):\n",
    "    return s.split()[0]\n",
    "l = ['Hi, Good Morning','I am Anusha Agarwal','hope you are have a good day']\n",
    "for i in l:\n",
    "    print(separate(i), end = ' ')"
   ]
  },
  {
   "cell_type": "markdown",
   "id": "8e6e8786-db1c-4f74-b5c3-fec997e6a8bd",
   "metadata": {},
   "source": [
    "### Q3. Extract the first word from every string from a list of strings by using map function."
   ]
  },
  {
   "cell_type": "code",
   "execution_count": 5,
   "id": "e4b5422f-b9f3-44f4-b00a-a5deac047fd8",
   "metadata": {},
   "outputs": [
    {
     "data": {
      "text/plain": [
       "['I', 'learn', 'Technology']"
      ]
     },
     "execution_count": 5,
     "metadata": {},
     "output_type": "execute_result"
    }
   ],
   "source": [
    "l = ['I am a Student','learn new things','Technology are getting advanced']\n",
    "def first(s):\n",
    "    return s.split()[0]\n",
    "list(map(first,l))"
   ]
  },
  {
   "cell_type": "markdown",
   "id": "3c8af8f1-549b-4a39-8b98-4cc67b8a1b19",
   "metadata": {},
   "source": [
    "### Q4. Write a function to return a list of prime factors of a given munber."
   ]
  },
  {
   "cell_type": "code",
   "execution_count": 6,
   "id": "1d0a2615-fd1c-446d-8409-d27f72b27741",
   "metadata": {},
   "outputs": [
    {
     "name": "stdin",
     "output_type": "stream",
     "text": [
      "enter the number: 67890\n"
     ]
    },
    {
     "name": "stdout",
     "output_type": "stream",
     "text": [
      "2\n",
      "3\n",
      "5\n",
      "31\n",
      "73\n",
      "end\n"
     ]
    }
   ],
   "source": [
    "def prime(n):\n",
    "    for i in range(2,n):\n",
    "        if n%i==0:\n",
    "            return False\n",
    "    return True\n",
    "\n",
    "def primefactors():\n",
    "    m=int(input('enter the number:'))\n",
    "    for i in range(2,m):\n",
    "        if (prime(i)):\n",
    "            if m%i==0:\n",
    "                print(i)\n",
    "    return print('end')\n",
    "\n",
    "primefactors()"
   ]
  },
  {
   "cell_type": "markdown",
   "id": "00ff1128-9472-480b-ac0f-1731ff0784cb",
   "metadata": {},
   "source": [
    "### Q5. Write a function that finds second largest among 4 numbers (repititions are allowed , without sorting)."
   ]
  },
  {
   "cell_type": "code",
   "execution_count": 9,
   "id": "4fd8e90d-7439-45ec-82db-198fe95d092f",
   "metadata": {},
   "outputs": [
    {
     "name": "stdout",
     "output_type": "stream",
     "text": [
      "Second highest number is :  45\n"
     ]
    }
   ],
   "source": [
    "num = [10, 20, 45, 99]\n",
    " \n",
    "larg=max(num[0],num[1])\n",
    "secondlarg=min(num[0],num[1])\n",
    "n =len(num)\n",
    "for i in range(2,n):\n",
    "    if num[i]>larg:\n",
    "        secondlarg=larg\n",
    "        larg=num[i]\n",
    "    elif num[i]>secondlarg and \\\n",
    "        larg != num[i]:\n",
    "        secondlarg=num[i]\n",
    " \n",
    "print(\"Second highest number is : \",\\\n",
    "      str(secondlarg))"
   ]
  },
  {
   "cell_type": "code",
   "execution_count": null,
   "id": "edd1baf5-af4b-4ac6-863e-655f65984c3e",
   "metadata": {},
   "outputs": [],
   "source": []
  }
 ],
 "metadata": {
  "kernelspec": {
   "display_name": "Python 3",
   "language": "python",
   "name": "python3"
  },
  "language_info": {
   "codemirror_mode": {
    "name": "ipython",
    "version": 3
   },
   "file_extension": ".py",
   "mimetype": "text/x-python",
   "name": "python",
   "nbconvert_exporter": "python",
   "pygments_lexer": "ipython3",
   "version": "3.8.8"
  }
 },
 "nbformat": 4,
 "nbformat_minor": 5
}
