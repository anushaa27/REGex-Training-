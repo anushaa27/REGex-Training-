{
 "cells": [
  {
   "cell_type": "code",
   "execution_count": 1,
   "id": "b5fba1ed-fa7e-4cb8-8eaf-c955a0aea7e6",
   "metadata": {},
   "outputs": [],
   "source": [
    "import numpy\n",
    "import tensorflow as tf\n",
    "from keras.models import Sequential\n",
    "from keras.layers import Dense, Dropout, BatchNormalization, Activation,Flatten\n",
    "from keras.constraints import maxnorm\n",
    "from keras.utils import np_utils"
   ]
  },
  {
   "cell_type": "code",
   "execution_count": 2,
   "id": "f2b57669-1573-4cda-bd61-ab1cfcf0085a",
   "metadata": {},
   "outputs": [],
   "source": [
    "from keras.datasets import cifar10"
   ]
  },
  {
   "cell_type": "code",
   "execution_count": 3,
   "id": "0c18dfc9-91f4-47c2-a9a7-1c3da43385f6",
   "metadata": {},
   "outputs": [
    {
     "name": "stdout",
     "output_type": "stream",
     "text": [
      "Downloading data from https://www.cs.toronto.edu/~kriz/cifar-10-python.tar.gz\n",
      "170500096/170498071 [==============================] - 380s 2us/step\n",
      "170508288/170498071 [==============================] - 380s 2us/step\n"
     ]
    }
   ],
   "source": [
    "(x_train, y_train),(x_test, y_test)=cifar10.load_data()"
   ]
  },
  {
   "cell_type": "code",
   "execution_count": 4,
   "id": "c74b520c-a341-493d-932b-1a0af88c9e18",
   "metadata": {},
   "outputs": [
    {
     "name": "stdout",
     "output_type": "stream",
     "text": [
      "[[[ 59  62  63]\n",
      "  [ 43  46  45]\n",
      "  [ 50  48  43]\n",
      "  ...\n",
      "  [158 132 108]\n",
      "  [152 125 102]\n",
      "  [148 124 103]]\n",
      "\n",
      " [[ 16  20  20]\n",
      "  [  0   0   0]\n",
      "  [ 18   8   0]\n",
      "  ...\n",
      "  [123  88  55]\n",
      "  [119  83  50]\n",
      "  [122  87  57]]\n",
      "\n",
      " [[ 25  24  21]\n",
      "  [ 16   7   0]\n",
      "  [ 49  27   8]\n",
      "  ...\n",
      "  [118  84  50]\n",
      "  [120  84  50]\n",
      "  [109  73  42]]\n",
      "\n",
      " ...\n",
      "\n",
      " [[208 170  96]\n",
      "  [201 153  34]\n",
      "  [198 161  26]\n",
      "  ...\n",
      "  [160 133  70]\n",
      "  [ 56  31   7]\n",
      "  [ 53  34  20]]\n",
      "\n",
      " [[180 139  96]\n",
      "  [173 123  42]\n",
      "  [186 144  30]\n",
      "  ...\n",
      "  [184 148  94]\n",
      "  [ 97  62  34]\n",
      "  [ 83  53  34]]\n",
      "\n",
      " [[177 144 116]\n",
      "  [168 129  94]\n",
      "  [179 142  87]\n",
      "  ...\n",
      "  [216 184 140]\n",
      "  [151 118  84]\n",
      "  [123  92  72]]]\n"
     ]
    }
   ],
   "source": [
    "print(x_train[0])"
   ]
  },
  {
   "cell_type": "code",
   "execution_count": 5,
   "id": "5d34e2d3-6a46-4f47-83b8-b934c598a562",
   "metadata": {},
   "outputs": [],
   "source": [
    "# Normalization needs to be done here\n",
    "\n",
    "x_train=x_train.astype('float32')\n",
    "x_test=x_test.astype('float32')\n",
    "x_train=x_train/255.0\n",
    "x_test=x_test/255.0"
   ]
  },
  {
   "cell_type": "code",
   "execution_count": 6,
   "id": "14188548-e751-41b0-9ba7-5b539efebe35",
   "metadata": {},
   "outputs": [],
   "source": [
    "y_train=np_utils.to_categorical(y_train)\n",
    "y_test=np_utils.to_categorical(y_test)\n",
    "class_num=y_test.shape[1]"
   ]
  },
  {
   "cell_type": "code",
   "execution_count": 9,
   "id": "ee551bf3-6732-44d0-822d-90adcc89147d",
   "metadata": {},
   "outputs": [],
   "source": [
    "model=Sequential()"
   ]
  },
  {
   "cell_type": "code",
   "execution_count": 10,
   "id": "82dd462a-975b-4fe2-a3ce-d16c04ef5024",
   "metadata": {},
   "outputs": [],
   "source": [
    "from keras.layers.convolutional import Conv2D, MaxPooling2D"
   ]
  },
  {
   "cell_type": "code",
   "execution_count": 11,
   "id": "bf673397-2882-42c7-afea-ef35eb4e8fb5",
   "metadata": {},
   "outputs": [],
   "source": [
    "model.add(Conv2D(32,(3,3),input_shape=x_train.shape[1:],padding='same'))\n",
    "model.add(Activation('relu'))"
   ]
  },
  {
   "cell_type": "code",
   "execution_count": 12,
   "id": "1b43ae10-84e6-4f3c-b132-aee1dd2b072e",
   "metadata": {},
   "outputs": [],
   "source": [
    "model.add(Dropout(0.2))\n",
    "model.add(BatchNormalization())"
   ]
  },
  {
   "cell_type": "code",
   "execution_count": 13,
   "id": "eb282521-3af9-4d1f-9809-39e1f6a95c44",
   "metadata": {},
   "outputs": [],
   "source": [
    "model.add(Conv2D(64,(3,3),padding='same'))\n",
    "model.add(Activation('relu'))"
   ]
  },
  {
   "cell_type": "code",
   "execution_count": 14,
   "id": "ef7a6aa5-80bc-49aa-a845-2167e1902c1c",
   "metadata": {},
   "outputs": [],
   "source": [
    "model.add(MaxPooling2D(pool_size=(2,2)))\n",
    "model.add(Dropout(0.2))\n",
    "model.add(BatchNormalization())"
   ]
  },
  {
   "cell_type": "code",
   "execution_count": 15,
   "id": "0ba13382-a4d6-42c1-95da-a2e462da97c3",
   "metadata": {},
   "outputs": [],
   "source": [
    "# Repeating the same \n",
    "model.add(Conv2D(64,(3,3),padding='same'))\n",
    "model.add(Activation('relu'))\n",
    "model.add(MaxPooling2D(pool_size=(2,2)))\n",
    "model.add(Dropout(0.2))\n",
    "model.add(BatchNormalization())\n",
    "\n",
    "\n",
    "model.add(Conv2D(128,(3,3),padding='same'))\n",
    "model.add(Activation('relu'))\n",
    "model.add(MaxPooling2D(pool_size=(2,2)))\n",
    "model.add(Dropout(0.2))\n",
    "model.add(BatchNormalization())"
   ]
  },
  {
   "cell_type": "code",
   "execution_count": 16,
   "id": "04cade6d-36f0-4977-821e-3ee0a9223a90",
   "metadata": {},
   "outputs": [],
   "source": [
    "# Need to flatter for 1D \n",
    "\n",
    "model.add(Flatten())\n",
    "model.add(Dropout(0.2))"
   ]
  },
  {
   "cell_type": "code",
   "execution_count": 17,
   "id": "6a205746-7402-46be-b9c3-2170f79c98d9",
   "metadata": {},
   "outputs": [],
   "source": [
    "model.add(Dense(256,kernel_constraint=maxnorm(3)))\n",
    "model.add(Activation('relu'))\n",
    "model.add(Dropout(0.2))\n",
    "model.add(BatchNormalization())\n",
    "\n",
    "\n",
    "\n",
    "model.add(Dense(256,kernel_constraint=maxnorm(3)))\n",
    "model.add(Activation('relu'))\n",
    "model.add(Dropout(0.2))\n",
    "model.add(BatchNormalization())"
   ]
  },
  {
   "cell_type": "code",
   "execution_count": 18,
   "id": "1d7324b2-850d-41d7-b862-f0d84185b949",
   "metadata": {},
   "outputs": [],
   "source": [
    "model.add(Dense(class_num))\n",
    "model.add(Activation('softmax'))"
   ]
  },
  {
   "cell_type": "code",
   "execution_count": 19,
   "id": "e4b6e764-fffa-4f2b-aba8-249e646c6199",
   "metadata": {},
   "outputs": [],
   "source": [
    "epochs=25\n",
    "optimizer='adam'"
   ]
  },
  {
   "cell_type": "code",
   "execution_count": 20,
   "id": "71a5260b-dcea-4fa9-b54e-aa1ca83c41c8",
   "metadata": {},
   "outputs": [],
   "source": [
    "model.compile(loss='categorical_crossentropy',optimizer=optimizer, metrics=['accuracy'])"
   ]
  },
  {
   "cell_type": "code",
   "execution_count": 21,
   "id": "37e07968-113e-401b-9e8f-59c8692b4b5b",
   "metadata": {},
   "outputs": [
    {
     "name": "stdout",
     "output_type": "stream",
     "text": [
      "Model: \"sequential\"\n",
      "_________________________________________________________________\n",
      "Layer (type)                 Output Shape              Param #   \n",
      "=================================================================\n",
      "conv2d (Conv2D)              (None, 32, 32, 32)        896       \n",
      "_________________________________________________________________\n",
      "activation (Activation)      (None, 32, 32, 32)        0         \n",
      "_________________________________________________________________\n",
      "dropout (Dropout)            (None, 32, 32, 32)        0         \n",
      "_________________________________________________________________\n",
      "batch_normalization (BatchNo (None, 32, 32, 32)        128       \n",
      "_________________________________________________________________\n",
      "conv2d_1 (Conv2D)            (None, 32, 32, 64)        18496     \n",
      "_________________________________________________________________\n",
      "activation_1 (Activation)    (None, 32, 32, 64)        0         \n",
      "_________________________________________________________________\n",
      "max_pooling2d (MaxPooling2D) (None, 16, 16, 64)        0         \n",
      "_________________________________________________________________\n",
      "dropout_1 (Dropout)          (None, 16, 16, 64)        0         \n",
      "_________________________________________________________________\n",
      "batch_normalization_1 (Batch (None, 16, 16, 64)        256       \n",
      "_________________________________________________________________\n",
      "conv2d_2 (Conv2D)            (None, 16, 16, 64)        36928     \n",
      "_________________________________________________________________\n",
      "activation_2 (Activation)    (None, 16, 16, 64)        0         \n",
      "_________________________________________________________________\n",
      "max_pooling2d_1 (MaxPooling2 (None, 8, 8, 64)          0         \n",
      "_________________________________________________________________\n",
      "dropout_2 (Dropout)          (None, 8, 8, 64)          0         \n",
      "_________________________________________________________________\n",
      "batch_normalization_2 (Batch (None, 8, 8, 64)          256       \n",
      "_________________________________________________________________\n",
      "conv2d_3 (Conv2D)            (None, 8, 8, 128)         73856     \n",
      "_________________________________________________________________\n",
      "activation_3 (Activation)    (None, 8, 8, 128)         0         \n",
      "_________________________________________________________________\n",
      "max_pooling2d_2 (MaxPooling2 (None, 4, 4, 128)         0         \n",
      "_________________________________________________________________\n",
      "dropout_3 (Dropout)          (None, 4, 4, 128)         0         \n",
      "_________________________________________________________________\n",
      "batch_normalization_3 (Batch (None, 4, 4, 128)         512       \n",
      "_________________________________________________________________\n",
      "flatten (Flatten)            (None, 2048)              0         \n",
      "_________________________________________________________________\n",
      "dropout_4 (Dropout)          (None, 2048)              0         \n",
      "_________________________________________________________________\n",
      "dense (Dense)                (None, 256)               524544    \n",
      "_________________________________________________________________\n",
      "activation_4 (Activation)    (None, 256)               0         \n",
      "_________________________________________________________________\n",
      "dropout_5 (Dropout)          (None, 256)               0         \n",
      "_________________________________________________________________\n",
      "batch_normalization_4 (Batch (None, 256)               1024      \n",
      "_________________________________________________________________\n",
      "dense_1 (Dense)              (None, 256)               65792     \n",
      "_________________________________________________________________\n",
      "activation_5 (Activation)    (None, 256)               0         \n",
      "_________________________________________________________________\n",
      "dropout_6 (Dropout)          (None, 256)               0         \n",
      "_________________________________________________________________\n",
      "batch_normalization_5 (Batch (None, 256)               1024      \n",
      "_________________________________________________________________\n",
      "dense_2 (Dense)              (None, 10)                2570      \n",
      "_________________________________________________________________\n",
      "activation_6 (Activation)    (None, 10)                0         \n",
      "=================================================================\n",
      "Total params: 726,282\n",
      "Trainable params: 724,682\n",
      "Non-trainable params: 1,600\n",
      "_________________________________________________________________\n",
      "None\n"
     ]
    }
   ],
   "source": [
    "print(model.summary())"
   ]
  },
  {
   "cell_type": "code",
   "execution_count": 22,
   "id": "d7390224-1dac-4edd-b7aa-69de6d09af9b",
   "metadata": {},
   "outputs": [
    {
     "name": "stdout",
     "output_type": "stream",
     "text": [
      "Epoch 1/25\n",
      "782/782 [==============================] - 216s 275ms/step - loss: 1.6135 - accuracy: 0.4278 - val_loss: 1.4289 - val_accuracy: 0.5021\n",
      "Epoch 2/25\n",
      "782/782 [==============================] - 211s 270ms/step - loss: 1.1245 - accuracy: 0.5968 - val_loss: 1.0021 - val_accuracy: 0.6459\n",
      "Epoch 3/25\n",
      "782/782 [==============================] - 212s 271ms/step - loss: 0.9410 - accuracy: 0.6652 - val_loss: 0.8911 - val_accuracy: 0.6842\n",
      "Epoch 4/25\n",
      "782/782 [==============================] - 231s 296ms/step - loss: 0.8349 - accuracy: 0.7063 - val_loss: 0.7475 - val_accuracy: 0.7320\n",
      "Epoch 5/25\n",
      "782/782 [==============================] - 213s 272ms/step - loss: 0.7667 - accuracy: 0.7286 - val_loss: 0.6983 - val_accuracy: 0.7546\n",
      "Epoch 6/25\n",
      "782/782 [==============================] - 234s 299ms/step - loss: 0.7129 - accuracy: 0.7483 - val_loss: 0.6520 - val_accuracy: 0.7729\n",
      "Epoch 7/25\n",
      "782/782 [==============================] - 232s 297ms/step - loss: 0.6730 - accuracy: 0.7634 - val_loss: 0.5968 - val_accuracy: 0.7915\n",
      "Epoch 8/25\n",
      "782/782 [==============================] - 216s 276ms/step - loss: 0.6325 - accuracy: 0.7764 - val_loss: 0.5912 - val_accuracy: 0.7978\n",
      "Epoch 9/25\n",
      "782/782 [==============================] - 215s 274ms/step - loss: 0.6063 - accuracy: 0.7865 - val_loss: 0.6065 - val_accuracy: 0.7939\n",
      "Epoch 10/25\n",
      "782/782 [==============================] - 233s 298ms/step - loss: 0.5857 - accuracy: 0.7949 - val_loss: 0.5675 - val_accuracy: 0.8046\n",
      "Epoch 11/25\n",
      "782/782 [==============================] - 203s 260ms/step - loss: 0.5651 - accuracy: 0.8021 - val_loss: 0.6097 - val_accuracy: 0.7916\n",
      "Epoch 12/25\n",
      "782/782 [==============================] - 207s 265ms/step - loss: 0.5505 - accuracy: 0.8079 - val_loss: 0.5749 - val_accuracy: 0.7991\n",
      "Epoch 13/25\n",
      "782/782 [==============================] - 201s 257ms/step - loss: 0.5303 - accuracy: 0.8144 - val_loss: 0.5442 - val_accuracy: 0.8123\n",
      "Epoch 14/25\n",
      "782/782 [==============================] - 197s 251ms/step - loss: 0.5084 - accuracy: 0.8205 - val_loss: 0.5070 - val_accuracy: 0.8250\n",
      "Epoch 15/25\n",
      "782/782 [==============================] - 210s 269ms/step - loss: 0.5041 - accuracy: 0.8224 - val_loss: 0.5402 - val_accuracy: 0.8138\n",
      "Epoch 16/25\n",
      "782/782 [==============================] - 205s 262ms/step - loss: 0.4931 - accuracy: 0.8270 - val_loss: 0.4928 - val_accuracy: 0.8327\n",
      "Epoch 17/25\n",
      "782/782 [==============================] - 249s 319ms/step - loss: 0.4837 - accuracy: 0.8285 - val_loss: 0.5262 - val_accuracy: 0.8178\n",
      "Epoch 18/25\n",
      "782/782 [==============================] - 203s 260ms/step - loss: 0.4746 - accuracy: 0.8329 - val_loss: 0.5747 - val_accuracy: 0.8043\n",
      "Epoch 19/25\n",
      "782/782 [==============================] - 223s 285ms/step - loss: 0.4695 - accuracy: 0.8342 - val_loss: 0.5693 - val_accuracy: 0.8077\n",
      "Epoch 20/25\n",
      "782/782 [==============================] - 195s 250ms/step - loss: 0.4545 - accuracy: 0.8393 - val_loss: 0.5364 - val_accuracy: 0.8206\n",
      "Epoch 21/25\n",
      "782/782 [==============================] - 187s 239ms/step - loss: 0.4474 - accuracy: 0.8397 - val_loss: 0.5022 - val_accuracy: 0.8308\n",
      "Epoch 22/25\n",
      "782/782 [==============================] - 196s 250ms/step - loss: 0.4452 - accuracy: 0.8407 - val_loss: 0.5245 - val_accuracy: 0.8232\n",
      "Epoch 23/25\n",
      "782/782 [==============================] - 195s 249ms/step - loss: 0.4272 - accuracy: 0.8487 - val_loss: 0.4822 - val_accuracy: 0.8395\n",
      "Epoch 24/25\n",
      "782/782 [==============================] - 192s 246ms/step - loss: 0.4293 - accuracy: 0.8486 - val_loss: 0.5135 - val_accuracy: 0.8258\n",
      "Epoch 25/25\n",
      "782/782 [==============================] - 186s 238ms/step - loss: 0.4230 - accuracy: 0.8500 - val_loss: 0.4961 - val_accuracy: 0.8308\n"
     ]
    }
   ],
   "source": [
    "seed = 21 #random\n",
    "numpy.random.seed(seed)\n",
    "result=model.fit(x_train,y_train,validation_data=(x_test,y_test),epochs=epochs,batch_size=64)"
   ]
  },
  {
   "cell_type": "code",
   "execution_count": 23,
   "id": "eaca6da5-99b0-4a3f-b31f-76c8efef1f1c",
   "metadata": {},
   "outputs": [
    {
     "data": {
      "image/png": "[encoded data removed]",
      "text/plain": [
       "<Figure size 1440x720 with 2 Axes>"
      ]
     },
     "metadata": {
      "needs_background": "light"
     },
     "output_type": "display_data"
    }
   ],
   "source": [
    "import matplotlib.pyplot as plt\n",
    "\n",
    "plt.figure(figsize=(20, 10))\n",
    "plt.subplot(1, 2, 1)\n",
    "plt.title(\"CNN Training and Validation Accuracy\")\n",
    "plt.plot(result.history[\"accuracy\"], label='Training Accuracy')\n",
    "plt.plot(result.history['val_accuracy'], label='Validation Accuracy')\n",
    "plt.legend(loc='lower right')\n",
    "plt.ylabel('accuracy')\n",
    "plt.xlabel('epoch')\n",
    "plt.subplot(1, 2, 2)\n",
    "plt.plot( result.history[\"loss\"], label='Training Loss')\n",
    "plt.plot( result.history[\"val_loss\"], label='Validation Loss')\n",
    "plt.legend(loc='upper right')\n",
    "plt.title('CNN Training and Validation Loss')\n",
    "plt.ylabel('loss')\n",
    "plt.xlabel('epoch')\n",
    "plt.show()"
   ]
  },
  {
   "cell_type": "code",
   "execution_count": 24,
   "id": "a49365e5-5acc-4b74-85c8-7fb09413b671",
   "metadata": {},
   "outputs": [
    {
     "name": "stdout",
     "output_type": "stream",
     "text": [
      "313/313 [==============================] - 8s 25ms/step - loss: 0.4961 - accuracy: 0.8308\n",
      "Test loss: 0.49612051248550415\n",
      "Test accuracy: 0.8307999968528748\n"
     ]
    }
   ],
   "source": [
    "scores = model.evaluate(x_test, y_test, verbose=1) \n",
    "print('Test loss:', scores[0])\n",
    "print('Test accuracy:', scores[1])"
   ]
  },
  {
   "cell_type": "code",
   "execution_count": null,
   "id": "1072eb9b-f7ae-4de3-9418-00ec305b6730",
   "metadata": {},
   "outputs": [],
   "source": []
  }
 ],
 "metadata": {
  "kernelspec": {
   "display_name": "Python 3",
   "language": "python",
   "name": "python3"
  },
  "language_info": {
   "codemirror_mode": {
    "name": "ipython",
    "version": 3
   },
   "file_extension": ".py",
   "mimetype": "text/x-python",
   "name": "python",
   "nbconvert_exporter": "python",
   "pygments_lexer": "ipython3",
   "version": "3.8.8"
  }
 },
 "nbformat": 4,
 "nbformat_minor": 5
}
