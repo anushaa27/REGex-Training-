{
 "cells": [
  {
   "cell_type": "markdown",
   "id": "4e731c3c-57db-45bd-954a-f9419dc28e8e",
   "metadata": {},
   "source": [
    "# ASSIGNMENT 5"
   ]
  },
  {
   "cell_type": "markdown",
   "id": "fb2826a2-0da6-4db8-a757-0f32b5189583",
   "metadata": {},
   "source": [
    "### 1.Given a list of integers,write a function to return the sum of all prime numbers in that list."
   ]
  },
  {
   "cell_type": "code",
   "execution_count": 18,
   "id": "5b4dd8ba-e60a-4490-9261-63ccab84600f",
   "metadata": {},
   "outputs": [
    {
     "name": "stdout",
     "output_type": "stream",
     "text": [
      "10\n"
     ]
    }
   ],
   "source": [
    "def isprime(n):\n",
    "    if n==1:\n",
    "        return 0\n",
    "    for i in range(2,int(n**(0.5))+1):\n",
    "        if n%i==0:\n",
    "            return 0\n",
    "    else:\n",
    "        return 1\n",
    "list1=[1,2,3,4,5,]\n",
    "sum=0\n",
    "for i in list1:\n",
    "    if isprime(i)==1:\n",
    "        sum+=i\n",
    "print(sum)"
   ]
  },
  {
   "cell_type": "markdown",
   "id": "e10f7f4a-64d5-4e7c-94c0-c7efc29b7d42",
   "metadata": {},
   "source": [
    "### 2. Given a list of integers, write a function to check whether the list is strictly increasing or not"
   ]
  },
  {
   "cell_type": "code",
   "execution_count": 19,
   "id": "b571c4d3-1b89-47da-ad68-feb23542568d",
   "metadata": {},
   "outputs": [
    {
     "name": "stdout",
     "output_type": "stream",
     "text": [
      "False\n"
     ]
    }
   ],
   "source": [
    "list1=[1,3,5,7,11,6]\n",
    "templist=[]\n",
    "temp=0\n",
    "flag=-1\n",
    "for i in list1:\n",
    "    if (i not in templist) & (i>temp):\n",
    "        flag=1\n",
    "        templist.append(i)\n",
    "        temp=i\n",
    "    else:\n",
    "        flag=0\n",
    "        break\n",
    "if flag==1:\n",
    "    print(\"True\")\n",
    "else:\n",
    "    print(\"False\")"
   ]
  },
  {
   "cell_type": "markdown",
   "id": "24f146b3-35d9-47c6-b525-fc145efde91b",
   "metadata": {},
   "source": [
    "### 3. Write a function to check whether a given list is expanding or not"
   ]
  },
  {
   "cell_type": "code",
   "execution_count": 20,
   "id": "b3da359b-1ffa-4a01-ae39-2a6dfc03de5c",
   "metadata": {},
   "outputs": [
    {
     "name": "stdout",
     "output_type": "stream",
     "text": [
      "False\n"
     ]
    }
   ],
   "source": [
    "list1=[1,2,3,4,5]\n",
    "prev=-1\n",
    "present=0\n",
    "flag=-1\n",
    "for i in range(len(list1)-1):\n",
    "    present=list1[i+1]-list1[i]\n",
    "    if present> prev:\n",
    "        flag=1\n",
    "        prev=present\n",
    "    else:\n",
    "        flag=0\n",
    "        break\n",
    "if flag==1:\n",
    "    print(\"True\")\n",
    "else:\n",
    "    print(\"False\")"
   ]
  },
  {
   "cell_type": "markdown",
   "id": "919e16dd-2d0d-4e78-9d54-3a43ff55bc8e",
   "metadata": {},
   "source": [
    "### 4. Write a function to calculate all permutations of a given string. (Without using itertools)"
   ]
  },
  {
   "cell_type": "code",
   "execution_count": 21,
   "id": "9469ba94-8504-45f1-81be-ac82e9773178",
   "metadata": {},
   "outputs": [
    {
     "name": "stdin",
     "output_type": "stream",
     "text": [
      " str\n"
     ]
    },
    {
     "name": "stdout",
     "output_type": "stream",
     "text": [
      "['str', 'tsr', 'trs', 'srt', 'rst', 'rts']\n"
     ]
    }
   ],
   "source": [
    "def permutation(str):\n",
    "    if len(str)==1:\n",
    "        return [str]\n",
    "    perms = permutation(str[1:])\n",
    "    char = str[0]\n",
    "    result = []\n",
    "    for perm in perms:\n",
    "        for i in range(len(perm)+1):\n",
    "            result.append(perm[:i] + char + perm[i:])\n",
    "    return result\n",
    "\n",
    "\n",
    "s = str(input())\n",
    "print(permutation(s))"
   ]
  },
  {
   "cell_type": "code",
   "execution_count": null,
   "id": "9694643d-c532-454d-aefc-8f4b852156e2",
   "metadata": {},
   "outputs": [],
   "source": []
  }
 ],
 "metadata": {
  "kernelspec": {
   "display_name": "Python 3",
   "language": "python",
   "name": "python3"
  },
  "language_info": {
   "codemirror_mode": {
    "name": "ipython",
    "version": 3
   },
   "file_extension": ".py",
   "mimetype": "text/x-python",
   "name": "python",
   "nbconvert_exporter": "python",
   "pygments_lexer": "ipython3",
   "version": "3.8.8"
  }
 },
 "nbformat": 4,
 "nbformat_minor": 5
}
